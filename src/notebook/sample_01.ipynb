{
 "cells": [
  {
   "cell_type": "code",
   "execution_count": 1,
   "metadata": {},
   "outputs": [],
   "source": [
    "import numpy as np"
   ]
  },
  {
   "cell_type": "code",
   "execution_count": 5,
   "metadata": {},
   "outputs": [
    {
     "name": "stdout",
     "output_type": "stream",
     "text": [
      "0 :  1.16.4\n",
      "1 :  1.16.4\n",
      "2 :  1.16.4\n",
      "3 :  1.16.4\n",
      "4 :  1.16.4\n",
      "5 :  1.16.4\n",
      "6 :  1.16.4\n",
      "7 :  1.16.4\n",
      "8 :  1.16.4\n",
      "9 :  1.16.4\n"
     ]
    }
   ],
   "source": [
    "for i in range(10):\n",
    "    print(i, \": \", np.__version__)"
   ]
  },
  {
   "cell_type": "code",
   "execution_count": null,
   "metadata": {},
   "outputs": [],
   "source": []
  }
 ],
 "metadata": {
  "kernelspec": {
   "display_name": "Python 3",
   "language": "python",
   "name": "python3"
  },
  "language_info": {
   "codemirror_mode": {
    "name": "ipython",
    "version": 3
   },
   "file_extension": ".py",
   "mimetype": "text/x-python",
   "name": "python",
   "nbconvert_exporter": "python",
   "pygments_lexer": "ipython3",
   "version": "3.6.6+"
  }
 },
 "nbformat": 4,
 "nbformat_minor": 2
}
